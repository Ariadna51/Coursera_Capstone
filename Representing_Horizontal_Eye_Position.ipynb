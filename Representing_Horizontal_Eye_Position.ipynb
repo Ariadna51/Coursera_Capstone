{
  "nbformat": 4,
  "nbformat_minor": 0,
  "metadata": {
    "colab": {
      "name": "Representing Horizontal Eye Position.ipynb",
      "provenance": [],
      "collapsed_sections": [],
      "include_colab_link": true
    },
    "kernelspec": {
      "name": "python3",
      "display_name": "Python 3"
    }
  },
  "cells": [
    {
      "cell_type": "markdown",
      "metadata": {
        "id": "view-in-github",
        "colab_type": "text"
      },
      "source": [
        "<a href=\"https://colab.research.google.com/github/Ariadna51/Coursera_Capstone/blob/master/Representing_Horizontal_Eye_Position.ipynb\" target=\"_parent\"><img src=\"https://colab.research.google.com/assets/colab-badge.svg\" alt=\"Open In Colab\"/></a>"
      ]
    },
    {
      "cell_type": "markdown",
      "metadata": {
        "id": "ImczRANuXV3c"
      },
      "source": [
        "## How to use this tutorial:\n",
        "\n",
        "You are expected to read this document sequentially, and answer questions you will find in the comments and at the bottom of the document. You will present your answers at our next encounter.\n",
        "\n",
        "To edit, go to File> Save a Copy in Drive or File > Open in Playground Mode\n"
      ]
    },
    {
      "cell_type": "markdown",
      "metadata": {
        "id": "Fcf9BzdGjizf"
      },
      "source": [
        "# Tutorial: Representing Eye Position in Populations of Spiking Neurons"
      ]
    },
    {
      "cell_type": "markdown",
      "metadata": {
        "id": "UHTW0oDDjpjw"
      },
      "source": [
        "In this [colab](https://colab.research.google.com/notebooks/intro.ipynb) we will use the simulator [NENGO](www.nengo.ai) to implement a neural population of leaky integrate and fire neurons that represents eye position (a continuous variable). This is an ultra simple example for you to **get a sense of what it means for populations of neurons to encode physical quantities**.\n",
        "\n",
        "We will **create a population of encoding neurons**, which effectively will be basis functions, and will respond monotonically but non-linearly. \n",
        "\n",
        "The response of these LIF neurons are derived from response properties found  in the NPH and MVN, which have tuning curves for specific eye positions.\n",
        "\n",
        "We will then **decode the eye position information** from the population of neurons. We will then verify the quality of the decoding and observe how it changes with the size of the neural population and other biophysical properties of the modeled neurons such as membrane time constant.\n"
      ]
    },
    {
      "cell_type": "markdown",
      "metadata": {
        "id": "STNe4I_hl2IL"
      },
      "source": [
        "# Learning Goals"
      ]
    },
    {
      "cell_type": "markdown",
      "metadata": {
        "id": "S0MCkNmJl5e2"
      },
      "source": [
        "- Learn how to implement a LIF network in Nengo\n",
        "- Probe and display network inputs and outputs\n",
        "- Encode an input quantity in a LIF population\n",
        "- Decode the quantity from these LIF neurons\n",
        "- Change properties of Networks, LIF neurons and synapses\n"
      ]
    },
    {
      "cell_type": "markdown",
      "metadata": {
        "id": "JgFFQmu9jX1l"
      },
      "source": [
        "For reference code snippets check: https://www.nengo.ai/nengo/examples/advanced/nef-summary.html"
      ]
    },
    {
      "cell_type": "markdown",
      "metadata": {
        "id": "TGJRtXPONr1x"
      },
      "source": [
        "# Requirements"
      ]
    },
    {
      "cell_type": "markdown",
      "metadata": {
        "id": "lWD81kHONtx-"
      },
      "source": [
        "- [some notion of object oriented programming](https://www.youtube.com/watch?v=pTB0EiLXUC8)."
      ]
    },
    {
      "cell_type": "markdown",
      "metadata": {
        "id": "UVuGLdPrRoKZ"
      },
      "source": [
        "# Glossary"
      ]
    },
    {
      "cell_type": "markdown",
      "metadata": {
        "id": "GKF3u-KkRpzD"
      },
      "source": [
        "- **Input space**: the set of possible values that input can take. For example, the input space of a single photo receptor is the possible luminance values that the photosensor receives."
      ]
    },
    {
      "cell_type": "markdown",
      "metadata": {
        "id": "RyB5_LH9mLRD"
      },
      "source": [
        "# Initialization"
      ]
    },
    {
      "cell_type": "markdown",
      "metadata": {
        "id": "7StXGltumPUl"
      },
      "source": [
        "In the cells below we install the nengo simulator and import relevant python packages."
      ]
    },
    {
      "cell_type": "code",
      "metadata": {
        "id": "cSTJu3u9Bi83",
        "colab": {
          "base_uri": "https://localhost:8080/"
        },
        "outputId": "6b84f775-0eb0-4e76-fd4f-92577ccb41a7"
      },
      "source": [
        "# Install Nengo into the colab via pip\n",
        "!pip install nengo"
      ],
      "execution_count": 1,
      "outputs": [
        {
          "output_type": "stream",
          "text": [
            "Collecting nengo\n",
            "\u001b[?25l  Downloading https://files.pythonhosted.org/packages/35/38/7c489e8ff80b652b9ae92d5d63416a0b742c089b3a284897802824ea06d4/nengo-3.1.0-py3-none-any.whl (523kB)\n",
            "\r\u001b[K     |▋                               | 10kB 14.8MB/s eta 0:00:01\r\u001b[K     |█▎                              | 20kB 19.0MB/s eta 0:00:01\r\u001b[K     |█▉                              | 30kB 13.5MB/s eta 0:00:01\r\u001b[K     |██▌                             | 40kB 12.2MB/s eta 0:00:01\r\u001b[K     |███▏                            | 51kB 7.8MB/s eta 0:00:01\r\u001b[K     |███▊                            | 61kB 8.1MB/s eta 0:00:01\r\u001b[K     |████▍                           | 71kB 9.1MB/s eta 0:00:01\r\u001b[K     |█████                           | 81kB 10.1MB/s eta 0:00:01\r\u001b[K     |█████▋                          | 92kB 8.5MB/s eta 0:00:01\r\u001b[K     |██████▎                         | 102kB 7.9MB/s eta 0:00:01\r\u001b[K     |██████▉                         | 112kB 7.9MB/s eta 0:00:01\r\u001b[K     |███████▌                        | 122kB 7.9MB/s eta 0:00:01\r\u001b[K     |████████▏                       | 133kB 7.9MB/s eta 0:00:01\r\u001b[K     |████████▊                       | 143kB 7.9MB/s eta 0:00:01\r\u001b[K     |█████████▍                      | 153kB 7.9MB/s eta 0:00:01\r\u001b[K     |██████████                      | 163kB 7.9MB/s eta 0:00:01\r\u001b[K     |██████████▋                     | 174kB 7.9MB/s eta 0:00:01\r\u001b[K     |███████████▎                    | 184kB 7.9MB/s eta 0:00:01\r\u001b[K     |████████████                    | 194kB 7.9MB/s eta 0:00:01\r\u001b[K     |████████████▌                   | 204kB 7.9MB/s eta 0:00:01\r\u001b[K     |█████████████▏                  | 215kB 7.9MB/s eta 0:00:01\r\u001b[K     |█████████████▊                  | 225kB 7.9MB/s eta 0:00:01\r\u001b[K     |██████████████▍                 | 235kB 7.9MB/s eta 0:00:01\r\u001b[K     |███████████████                 | 245kB 7.9MB/s eta 0:00:01\r\u001b[K     |███████████████▋                | 256kB 7.9MB/s eta 0:00:01\r\u001b[K     |████████████████▎               | 266kB 7.9MB/s eta 0:00:01\r\u001b[K     |█████████████████               | 276kB 7.9MB/s eta 0:00:01\r\u001b[K     |█████████████████▌              | 286kB 7.9MB/s eta 0:00:01\r\u001b[K     |██████████████████▏             | 296kB 7.9MB/s eta 0:00:01\r\u001b[K     |██████████████████▉             | 307kB 7.9MB/s eta 0:00:01\r\u001b[K     |███████████████████▍            | 317kB 7.9MB/s eta 0:00:01\r\u001b[K     |████████████████████            | 327kB 7.9MB/s eta 0:00:01\r\u001b[K     |████████████████████▋           | 337kB 7.9MB/s eta 0:00:01\r\u001b[K     |█████████████████████▎          | 348kB 7.9MB/s eta 0:00:01\r\u001b[K     |██████████████████████          | 358kB 7.9MB/s eta 0:00:01\r\u001b[K     |██████████████████████▌         | 368kB 7.9MB/s eta 0:00:01\r\u001b[K     |███████████████████████▏        | 378kB 7.9MB/s eta 0:00:01\r\u001b[K     |███████████████████████▉        | 389kB 7.9MB/s eta 0:00:01\r\u001b[K     |████████████████████████▍       | 399kB 7.9MB/s eta 0:00:01\r\u001b[K     |█████████████████████████       | 409kB 7.9MB/s eta 0:00:01\r\u001b[K     |█████████████████████████▊      | 419kB 7.9MB/s eta 0:00:01\r\u001b[K     |██████████████████████████▎     | 430kB 7.9MB/s eta 0:00:01\r\u001b[K     |███████████████████████████     | 440kB 7.9MB/s eta 0:00:01\r\u001b[K     |███████████████████████████▌    | 450kB 7.9MB/s eta 0:00:01\r\u001b[K     |████████████████████████████▏   | 460kB 7.9MB/s eta 0:00:01\r\u001b[K     |████████████████████████████▉   | 471kB 7.9MB/s eta 0:00:01\r\u001b[K     |█████████████████████████████▍  | 481kB 7.9MB/s eta 0:00:01\r\u001b[K     |██████████████████████████████  | 491kB 7.9MB/s eta 0:00:01\r\u001b[K     |██████████████████████████████▊ | 501kB 7.9MB/s eta 0:00:01\r\u001b[K     |███████████████████████████████▎| 512kB 7.9MB/s eta 0:00:01\r\u001b[K     |████████████████████████████████| 522kB 7.9MB/s eta 0:00:01\r\u001b[K     |████████████████████████████████| 532kB 7.9MB/s \n",
            "\u001b[?25hRequirement already satisfied: numpy>=1.13 in /usr/local/lib/python3.6/dist-packages (from nengo) (1.19.5)\n",
            "Installing collected packages: nengo\n",
            "Successfully installed nengo-3.1.0\n"
          ],
          "name": "stdout"
        }
      ]
    },
    {
      "cell_type": "code",
      "metadata": {
        "id": "-729YdSaL15N"
      },
      "source": [
        "import nengo # our simulator\n",
        "import pandas as pd # to collect and handle data frames\n",
        "import matplotlib.pyplot as plt # for plotting\n",
        "import numpy as np # for numerical / mathematical functions\n",
        "import seaborn as sns # for nice plotting"
      ],
      "execution_count": 2,
      "outputs": []
    },
    {
      "cell_type": "code",
      "metadata": {
        "id": "9PvuEPNpMnZm"
      },
      "source": [
        "%matplotlib inline\n",
        "\n",
        "from nengo.dists import Uniform # a nice uniform distribution\n",
        "from nengo.processes import WhiteSignal # a noise source\n",
        "from nengo.utils.ensemble import tuning_curves # tuning curves\n",
        "# from nengo.utils.ipython import hide_input \n",
        "from nengo.utils.matplotlib import rasterplot # for a convenient way of displaying raster plots"
      ],
      "execution_count": 3,
      "outputs": []
    },
    {
      "cell_type": "markdown",
      "metadata": {
        "id": "L_uyZYPcL0B1"
      },
      "source": [
        "# Modeling in Nengo\n",
        "\n",
        "A recipe for a model in Nengo is as follows:\n",
        "\n",
        "1. Create a model with `nengo.Network()` object.\n",
        "2. Create and insert inputs in the model via `nengo.Node()`.\n",
        "3. Add a number of neuronal populations via `nengo.Ensembles()`. Here we can also set the properties of our neurons, such as membrane time constant.\n",
        "4. Connect those ensembles via synapses via `nengo.Connection(). Here we can also define synaptic properties. It is here as well, that we may want to define the **decoding functions**.\n",
        "5. Add the model to a `nengo.Simulator()` object and run.\n",
        "6. Plot selected variables using your package of choice (e.g., seaborn, matplotlib).\n"
      ]
    },
    {
      "cell_type": "markdown",
      "metadata": {
        "id": "d2UeQJ8x4FUm"
      },
      "source": [
        "## 1. Create a model."
      ]
    },
    {
      "cell_type": "markdown",
      "metadata": {
        "id": "CTzcd1ANQJIm"
      },
      "source": [
        "This is the **object** that we will populate with inputs, neurons and probes, and that we will simulate."
      ]
    },
    {
      "cell_type": "code",
      "metadata": {
        "id": "ngEoCu5e4JoI"
      },
      "source": [
        "model = nengo.Network(label='NPH and VN') # Label is simply a name (string)"
      ],
      "execution_count": 4,
      "outputs": []
    },
    {
      "cell_type": "markdown",
      "metadata": {
        "id": "QKzzCeJU2-q1"
      },
      "source": [
        "## 2. Create an input:\n",
        "\n",
        "Nengo's function `Node()` is used to create inputs to networks. [Lambda notation](https://realpython.com/python-lambda/) is often used for the purpose. \n",
        "\n",
        "- a function that returns a ramping input\n",
        "\n",
        "> `input = nengo.Node(lambda t: t * 2 - 1)`\n",
        "\n",
        "- a function that returns 1 during a certain interval.\n",
        "\n",
        "> `input = nengo.Node(lambda t: [1, 0] if t < 0.1 else [0, 0])`\n",
        "\n",
        "- a function that produces a sine wave with a certain frequency\n",
        "\n",
        "> `input = nengo.Node(lambda t: sin(2*pi*t)`\n",
        "\n",
        "- combine the two last statements\n",
        "\n",
        "`input = nengo.Node(lambda t: sin(2*pi*t) if t > 1 else [0, 0])`"
      ]
    },
    {
      "cell_type": "code",
      "metadata": {
        "id": "wsNnM09a319N"
      },
      "source": [
        "with model: # to add things to model, we use 'with' \n",
        "  input = nengo.Node(lambda t: np.sin(2*1*np.pi * t)) # the input \n",
        "  # input = nengo.Node(lambda t: t * 2 - 1) # the input \n",
        "  input_probe = nengo.Probe(input) # with Probe we record a variable"
      ],
      "execution_count": 5,
      "outputs": []
    },
    {
      "cell_type": "markdown",
      "metadata": {
        "id": "vd_0KA-jJ5GF"
      },
      "source": [
        "In order to display our input, we need to run the model (this populates the output variables). We do that by adding our model to `Simulator()` on `model`  and running for `t` seconds."
      ]
    },
    {
      "cell_type": "code",
      "metadata": {
        "colab": {
          "base_uri": "https://localhost:8080/",
          "height": 75
        },
        "id": "cF01dZhjKlBZ",
        "outputId": "a473cdb4-69a5-4a91-bf5c-c5cb12f543e1"
      },
      "source": [
        "with nengo.Simulator(model) as sim:\n",
        "    sim.run(1.0)"
      ],
      "execution_count": 7,
      "outputs": [
        {
          "output_type": "display_data",
          "data": {
            "application/vdom.v1+json": {
              "attributes": {},
              "tagName": "div"
            },
            "text/plain": [
              "HtmlProgressBar cannot be displayed. Please use the TerminalProgressBar. It can be enabled with `nengo.rc['progress']['progress_bar'] = 'nengo.utils.progress.TerminalProgressBar'`."
            ],
            "text/html": [
              "\n",
              "                <script>\n",
              "                    if (Jupyter.version.split(\".\")[0] < 5) {\n",
              "                        var pb = document.getElementById(\"5feee44a-3f8a-48f8-8ba8-ae5fc821e843\");\n",
              "                        var text = document.createTextNode(\n",
              "                            \"HMTL progress bar requires Jupyter Notebook >= \" +\n",
              "                            \"5.0 or Jupyter Lab. Alternatively, you can use \" +\n",
              "                            \"TerminalProgressBar().\");\n",
              "                        pb.parentNode.insertBefore(text, pb);\n",
              "                    }\n",
              "                </script>\n",
              "                <div id=\"5feee44a-3f8a-48f8-8ba8-ae5fc821e843\" style=\"\n",
              "                    width: 100%;\n",
              "                    border: 1px solid #cfcfcf;\n",
              "                    border-radius: 4px;\n",
              "                    text-align: center;\n",
              "                    position: relative;\">\n",
              "                  <div class=\"pb-text\" style=\"\n",
              "                      position: absolute;\n",
              "                      width: 100%;\">\n",
              "                    0%\n",
              "                  </div>\n",
              "                  <div class=\"pb-fill\" style=\"\n",
              "                      background-color: #bdd2e6;\n",
              "                      width: 0%;\">\n",
              "                    <style type=\"text/css\" scoped=\"scoped\">\n",
              "                        @keyframes pb-fill-anim {\n",
              "                            0% { background-position: 0 0; }\n",
              "                            100% { background-position: 100px 0; }\n",
              "                        }\n",
              "                    </style>\n",
              "                    &nbsp;\n",
              "                  </div>\n",
              "                </div>"
            ]
          },
          "metadata": {
            "tags": []
          }
        },
        {
          "output_type": "display_data",
          "data": {
            "application/vdom.v1+json": {
              "attributes": {
                "style": {
                  "boxSizing": "border-box",
                  "width": "100%",
                  "position": "relative",
                  "border": "1px solid #cfcfcf",
                  "textAlign": "center",
                  "borderRadius": "4px"
                },
                "id": "732d6d6f-a759-49c7-b986-f5ca28d5139a"
              },
              "children": [
                {
                  "attributes": {
                    "style": {
                      "position": "absolute",
                      "width": "100%"
                    },
                    "class": "pb-text"
                  },
                  "children": [
                    "Build finished in 0:00:01."
                  ],
                  "tagName": "div"
                },
                {
                  "attributes": {
                    "style": {
                      "width": "100%",
                      "animation": "none",
                      "backgroundImage": "none",
                      "backgroundColor": "#bdd2e6",
                      "backgroundSize": "100px 100%"
                    },
                    "class": "pb-fill"
                  },
                  "children": [
                    {
                      "attributes": {
                        "type": "text/css",
                        "scoped": "scoped"
                      },
                      "children": [
                        "\n                        @keyframes pb-fill-anim {\n                            0% { background-position: 0 0; }\n                            100% { background-position: 100px 0; }\n                        }}"
                      ],
                      "tagName": "style"
                    },
                    " "
                  ],
                  "tagName": "div"
                }
              ],
              "tagName": "div"
            },
            "text/html": [
              "<script>\n",
              "              (function () {\n",
              "                  var root = document.getElementById('5feee44a-3f8a-48f8-8ba8-ae5fc821e843');\n",
              "                  var text = root.getElementsByClassName('pb-text')[0];\n",
              "                  var fill = root.getElementsByClassName('pb-fill')[0];\n",
              "\n",
              "                  text.innerHTML = 'Build finished in 0:00:01.';\n",
              "                  \n",
              "            fill.style.width = '100%';\n",
              "            fill.style.animation = 'pb-fill-anim 2s linear infinite';\n",
              "            fill.style.backgroundSize = '100px 100%';\n",
              "            fill.style.backgroundImage = 'repeating-linear-gradient(' +\n",
              "                '90deg, #bdd2e6, #edf2f8 40%, #bdd2e6 80%, #bdd2e6)';\n",
              "        \n",
              "                  \n",
              "                fill.style.animation = 'none';\n",
              "                fill.style.backgroundImage = 'none';\n",
              "            \n",
              "              })();\n",
              "        </script>"
            ]
          },
          "metadata": {
            "tags": []
          }
        },
        {
          "output_type": "display_data",
          "data": {
            "application/vdom.v1+json": {
              "attributes": {},
              "tagName": "div"
            },
            "text/plain": [
              "HtmlProgressBar cannot be displayed. Please use the TerminalProgressBar. It can be enabled with `nengo.rc['progress']['progress_bar'] = 'nengo.utils.progress.TerminalProgressBar'`."
            ],
            "text/html": [
              "\n",
              "                <script>\n",
              "                    if (Jupyter.version.split(\".\")[0] < 5) {\n",
              "                        var pb = document.getElementById(\"07527647-c557-4b45-86cd-2cae9f0d1718\");\n",
              "                        var text = document.createTextNode(\n",
              "                            \"HMTL progress bar requires Jupyter Notebook >= \" +\n",
              "                            \"5.0 or Jupyter Lab. Alternatively, you can use \" +\n",
              "                            \"TerminalProgressBar().\");\n",
              "                        pb.parentNode.insertBefore(text, pb);\n",
              "                    }\n",
              "                </script>\n",
              "                <div id=\"07527647-c557-4b45-86cd-2cae9f0d1718\" style=\"\n",
              "                    width: 100%;\n",
              "                    border: 1px solid #cfcfcf;\n",
              "                    border-radius: 4px;\n",
              "                    text-align: center;\n",
              "                    position: relative;\">\n",
              "                  <div class=\"pb-text\" style=\"\n",
              "                      position: absolute;\n",
              "                      width: 100%;\">\n",
              "                    0%\n",
              "                  </div>\n",
              "                  <div class=\"pb-fill\" style=\"\n",
              "                      background-color: #bdd2e6;\n",
              "                      width: 0%;\">\n",
              "                    <style type=\"text/css\" scoped=\"scoped\">\n",
              "                        @keyframes pb-fill-anim {\n",
              "                            0% { background-position: 0 0; }\n",
              "                            100% { background-position: 100px 0; }\n",
              "                        }\n",
              "                    </style>\n",
              "                    &nbsp;\n",
              "                  </div>\n",
              "                </div>"
            ]
          },
          "metadata": {
            "tags": []
          }
        },
        {
          "output_type": "display_data",
          "data": {
            "application/vdom.v1+json": {
              "attributes": {
                "style": {
                  "boxSizing": "border-box",
                  "width": "100%",
                  "position": "relative",
                  "border": "1px solid #cfcfcf",
                  "textAlign": "center",
                  "borderRadius": "4px"
                },
                "id": "4e27484f-818e-462d-9ec8-9d0a987cecae"
              },
              "children": [
                {
                  "attributes": {
                    "style": {
                      "position": "absolute",
                      "width": "100%"
                    },
                    "class": "pb-text"
                  },
                  "children": [
                    "Simulation finished in 0:00:01."
                  ],
                  "tagName": "div"
                },
                {
                  "attributes": {
                    "style": {
                      "width": "100%",
                      "animation": "none",
                      "backgroundImage": "none",
                      "backgroundColor": "#bdd2e6",
                      "transition": "width 0.1s linear"
                    },
                    "class": "pb-fill"
                  },
                  "children": [
                    {
                      "attributes": {
                        "type": "text/css",
                        "scoped": "scoped"
                      },
                      "children": [
                        "\n                        @keyframes pb-fill-anim {\n                            0% { background-position: 0 0; }\n                            100% { background-position: 100px 0; }\n                        }}"
                      ],
                      "tagName": "style"
                    },
                    " "
                  ],
                  "tagName": "div"
                }
              ],
              "tagName": "div"
            },
            "text/html": [
              "<script>\n",
              "              (function () {\n",
              "                  var root = document.getElementById('07527647-c557-4b45-86cd-2cae9f0d1718');\n",
              "                  var text = root.getElementsByClassName('pb-text')[0];\n",
              "                  var fill = root.getElementsByClassName('pb-fill')[0];\n",
              "\n",
              "                  text.innerHTML = 'Simulation finished in 0:00:01.';\n",
              "                  \n",
              "            if (100.0 > 0.) {\n",
              "                fill.style.transition = 'width 0.1s linear';\n",
              "            } else {\n",
              "                fill.style.transition = 'none';\n",
              "            }\n",
              "\n",
              "            fill.style.width = '100.0%';\n",
              "            fill.style.animation = 'none';\n",
              "            fill.style.backgroundImage = 'none'\n",
              "        \n",
              "                  \n",
              "                fill.style.animation = 'none';\n",
              "                fill.style.backgroundImage = 'none';\n",
              "            \n",
              "              })();\n",
              "        </script>"
            ]
          },
          "metadata": {
            "tags": []
          }
        }
      ]
    },
    {
      "cell_type": "markdown",
      "metadata": {
        "id": "cxqhGGn5QlJ2"
      },
      "source": [
        "Our model only has an input so far, no neurons. But we can plot it for sanity checking:"
      ]
    },
    {
      "cell_type": "code",
      "metadata": {
        "colab": {
          "base_uri": "https://localhost:8080/",
          "height": 312
        },
        "id": "NBAJjSITQxAp",
        "outputId": "b41df401-6fe9-4410-e14a-6ef0475afb86"
      },
      "source": [
        "plt.figure()\n",
        "plt.plot(sim.trange(), sim.data[input_probe], lw=2) #note 'input_probe' is what we created above. lw is line width.  \n",
        "plt.title(\"Input signal\")\n",
        "plt.xlabel(\"Time (s)\")\n",
        "plt.xlim(0, 2)"
      ],
      "execution_count": 8,
      "outputs": [
        {
          "output_type": "execute_result",
          "data": {
            "text/plain": [
              "(0.0, 2.0)"
            ]
          },
          "metadata": {
            "tags": []
          },
          "execution_count": 8
        },
        {
          "output_type": "display_data",
          "data": {
            "image/png": "[encoded data removed]",
            "text/plain": [
              "<Figure size 432x288 with 1 Axes>"
            ]
          },
          "metadata": {
            "tags": [],
            "needs_background": "light"
          }
        }
      ]
    },
    {
      "cell_type": "markdown",
      "metadata": {
        "id": "1LGYND-omihN"
      },
      "source": [
        "## 3. Create some Neurons that Cover the Input Space"
      ]
    },
    {
      "cell_type": "markdown",
      "metadata": {
        "id": "I_ev_QBamu7K"
      },
      "source": [
        "We will add an ensemble that encodes a continuous variable (representing some physical input to sensory neurons). We do this by creating a set of neurons, each of which has a different tuning curve, such that they 'cover' the entire 'input space'. These tuning curves will have a mostly-linear relationship with an encoded quantity. In NENGO we refer to neurons with tuning curves as  'encoders'."
      ]
    },
    {
      "cell_type": "markdown",
      "metadata": {
        "id": "aKioogaWeQYl"
      },
      "source": [
        "---\n",
        "\n",
        "Firing characteristics of the Nucleus Prepositus Hipoglossi and Medial Vestibular Nucleus\n",
        "\n",
        "**System Specification:**\n",
        "> \n",
        "- Encode for horizontal eye position -- \n",
        "  - Humans: 50deg horizontal eye motion (Davson 1990, p.657).\n",
        "  - In the model we can transform this to a range between [-1, 1], without loss of generality!\n",
        "- Background firing rates in the NPH: 0-150 Hz (Moschovakis 1997)\n",
        "- Maximum firing rate ~ 300Hz\n",
        "- Tuning curve sensitivities (mostly linear!) : 0.1 to 7 Hz / deg\n",
        "\n",
        "\n",
        "\n",
        "\n",
        "\n",
        "---"
      ]
    },
    {
      "cell_type": "markdown",
      "metadata": {
        "id": "Zw_m7d1y0HDA"
      },
      "source": [
        "### Tuning curves as basis functions\n",
        "Distribute the encoders over the encoded space by setting neurons with intercepts that cover the encoded dimension e.g., from [-1 to 1]. We do this with a helper function `aligned()`, defined below. We will use the output of this function to parameterize our encoding neurons."
      ]
    },
    {
      "cell_type": "markdown",
      "metadata": {
        "id": "OE6wWo-MlE_o"
      },
      "source": [
        "Example: Write a fuction called 'aligned', that returns two lists of N values, where:\n",
        "- **intercepts**: the value at which the neuron starts firing. Equally spaced points in an interval between [-radius, radius], where radius represents the possible values of an input around zero. \n",
        "- **encoders**: the slope of the tuning curves of the neuron. Here we simply use a vector populated with equal numbers of -1 (off neurons) and 1 (on neurons). The reasons for this choice are explained in Neuroengineering chapter 4).\n"
      ]
    },
    {
      "cell_type": "code",
      "metadata": {
        "id": "pwncuJXQlGwm"
      },
      "source": [
        "def aligned(n_neurons, radius=0.9):\n",
        "    intercepts = np.linspace(-radius, radius, n_neurons)\n",
        "    encoders = np.tile([[1], [-1]], (n_neurons // 2, 1))\n",
        "    intercepts *= encoders[:, 0]\n",
        "    return intercepts, encoders"
      ],
      "execution_count": 9,
      "outputs": []
    },
    {
      "cell_type": "markdown",
      "metadata": {
        "id": "rsMxGZY1VaiX"
      },
      "source": [
        "#### Warm-up Exercise:\n",
        "**Call the function** defined above with 8 neurons and a radius of 1 and **inspect the output**."
      ]
    },
    {
      "cell_type": "code",
      "metadata": {
        "id": "2_WrBywd0g5t"
      },
      "source": [
        "# your code here\n",
        "intercepts, encoders = aligned(8, 1)"
      ],
      "execution_count": 17,
      "outputs": []
    },
    {
      "cell_type": "markdown",
      "metadata": {
        "id": "fzq0Bjy8jR5v"
      },
      "source": [
        "### Check your answer below"
      ]
    },
    {
      "cell_type": "code",
      "metadata": {
        "id": "6VWJWJaBjF-I"
      },
      "source": [
        "intercepts, encoders = aligned(8, .9)"
      ],
      "execution_count": 18,
      "outputs": []
    },
    {
      "cell_type": "markdown",
      "metadata": {
        "id": "K_StMume2vBs"
      },
      "source": [
        "### Make an IF population of encoders"
      ]
    },
    {
      "cell_type": "markdown",
      "metadata": {
        "id": "W9agO0IeW2Zr"
      },
      "source": [
        "Below we create an ensemble of 8 IF neurons to encode the 1-dimensional input (e.g., the eye position) according to specified intercepts, encoders and with specified max_rates."
      ]
    },
    {
      "cell_type": "code",
      "metadata": {
        "id": "gxmeVn9tMZT0"
      },
      "source": [
        "with model:\n",
        "    NPH = nengo.Ensemble( #NPH stands for 'nucleus prepositus hipoglossi'\n",
        "        8,\n",
        "        dimensions=1,\n",
        "        intercepts=intercepts,\n",
        "        max_rates=Uniform(80, 100), # the maximum firing rate of the neurons are drawn from the uniform distribution\n",
        "        encoders=encoders,\n",
        "    )"
      ],
      "execution_count": 20,
      "outputs": []
    },
    {
      "cell_type": "markdown",
      "metadata": {
        "id": "gksKPQ7tZEX1"
      },
      "source": [
        "We can plot the tuning curves of our neurons, with the function `tuning_curves` for population A"
      ]
    },
    {
      "cell_type": "code",
      "metadata": {
        "colab": {
          "base_uri": "https://localhost:8080/",
          "height": 335
        },
        "id": "scUex73aNE7D",
        "outputId": "b0cc33bd-f1ba-429e-8c13-1671aa34c8de"
      },
      "source": [
        "with nengo.Simulator(model) as sim:\n",
        "    eval_points, activities = tuning_curves(NPH, sim) \n",
        "\n",
        "plt.figure()\n",
        "plt.plot(eval_points, activities, lw=2)\n",
        "plt.xlabel(\"Input signal\")\n",
        "plt.ylabel(\"Firing rate (Hz)\")"
      ],
      "execution_count": 21,
      "outputs": [
        {
          "output_type": "display_data",
          "data": {
            "application/vdom.v1+json": {
              "attributes": {},
              "tagName": "div"
            },
            "text/plain": [
              "HtmlProgressBar cannot be displayed. Please use the TerminalProgressBar. It can be enabled with `nengo.rc['progress']['progress_bar'] = 'nengo.utils.progress.TerminalProgressBar'`."
            ],
            "text/html": [
              "\n",
              "                <script>\n",
              "                    if (Jupyter.version.split(\".\")[0] < 5) {\n",
              "                        var pb = document.getElementById(\"fb48587c-cd4a-4470-811f-242333de7ac3\");\n",
              "                        var text = document.createTextNode(\n",
              "                            \"HMTL progress bar requires Jupyter Notebook >= \" +\n",
              "                            \"5.0 or Jupyter Lab. Alternatively, you can use \" +\n",
              "                            \"TerminalProgressBar().\");\n",
              "                        pb.parentNode.insertBefore(text, pb);\n",
              "                    }\n",
              "                </script>\n",
              "                <div id=\"fb48587c-cd4a-4470-811f-242333de7ac3\" style=\"\n",
              "                    width: 100%;\n",
              "                    border: 1px solid #cfcfcf;\n",
              "                    border-radius: 4px;\n",
              "                    text-align: center;\n",
              "                    position: relative;\">\n",
              "                  <div class=\"pb-text\" style=\"\n",
              "                      position: absolute;\n",
              "                      width: 100%;\">\n",
              "                    0%\n",
              "                  </div>\n",
              "                  <div class=\"pb-fill\" style=\"\n",
              "                      background-color: #bdd2e6;\n",
              "                      width: 0%;\">\n",
              "                    <style type=\"text/css\" scoped=\"scoped\">\n",
              "                        @keyframes pb-fill-anim {\n",
              "                            0% { background-position: 0 0; }\n",
              "                            100% { background-position: 100px 0; }\n",
              "                        }\n",
              "                    </style>\n",
              "                    &nbsp;\n",
              "                  </div>\n",
              "                </div>"
            ]
          },
          "metadata": {
            "tags": []
          }
        },
        {
          "output_type": "display_data",
          "data": {
            "application/vdom.v1+json": {
              "attributes": {
                "style": {
                  "boxSizing": "border-box",
                  "width": "100%",
                  "position": "relative",
                  "border": "1px solid #cfcfcf",
                  "textAlign": "center",
                  "borderRadius": "4px"
                },
                "id": "bf07983e-918e-4ae0-853f-791057f28bce"
              },
              "children": [
                {
                  "attributes": {
                    "style": {
                      "position": "absolute",
                      "width": "100%"
                    },
                    "class": "pb-text"
                  },
                  "children": [
                    "Build finished in 0:00:01."
                  ],
                  "tagName": "div"
                },
                {
                  "attributes": {
                    "style": {
                      "width": "100%",
                      "animation": "none",
                      "backgroundImage": "none",
                      "backgroundColor": "#bdd2e6",
                      "backgroundSize": "100px 100%"
                    },
                    "class": "pb-fill"
                  },
                  "children": [
                    {
                      "attributes": {
                        "type": "text/css",
                        "scoped": "scoped"
                      },
                      "children": [
                        "\n                        @keyframes pb-fill-anim {\n                            0% { background-position: 0 0; }\n                            100% { background-position: 100px 0; }\n                        }}"
                      ],
                      "tagName": "style"
                    },
                    " "
                  ],
                  "tagName": "div"
                }
              ],
              "tagName": "div"
            },
            "text/html": [
              "<script>\n",
              "              (function () {\n",
              "                  var root = document.getElementById('fb48587c-cd4a-4470-811f-242333de7ac3');\n",
              "                  var text = root.getElementsByClassName('pb-text')[0];\n",
              "                  var fill = root.getElementsByClassName('pb-fill')[0];\n",
              "\n",
              "                  text.innerHTML = 'Build finished in 0:00:01.';\n",
              "                  \n",
              "            fill.style.width = '100%';\n",
              "            fill.style.animation = 'pb-fill-anim 2s linear infinite';\n",
              "            fill.style.backgroundSize = '100px 100%';\n",
              "            fill.style.backgroundImage = 'repeating-linear-gradient(' +\n",
              "                '90deg, #bdd2e6, #edf2f8 40%, #bdd2e6 80%, #bdd2e6)';\n",
              "        \n",
              "                  \n",
              "                fill.style.animation = 'none';\n",
              "                fill.style.backgroundImage = 'none';\n",
              "            \n",
              "              })();\n",
              "        </script>"
            ]
          },
          "metadata": {
            "tags": []
          }
        },
        {
          "output_type": "execute_result",
          "data": {
            "text/plain": [
              "Text(0, 0.5, 'Firing rate (Hz)')"
            ]
          },
          "metadata": {
            "tags": []
          },
          "execution_count": 21
        },
        {
          "output_type": "display_data",
          "data": {
            "image/png": "[encoded data removed]",
            "text/plain": [
              "<Figure size 432x288 with 1 Axes>"
            ]
          },
          "metadata": {
            "tags": [],
            "needs_background": "light"
          }
        }
      ]
    },
    {
      "cell_type": "markdown",
      "metadata": {
        "id": "8idrCw6DalS-"
      },
      "source": [
        "### 5. Connect the Inputs with Neurons"
      ]
    },
    {
      "cell_type": "markdown",
      "metadata": {
        "id": "7NJ_h45GbRC5"
      },
      "source": [
        "We distribute the input to all neurons in the ensemble via `nengo.Connection()`. By default we connect the input to all postsynaptic neurons with equal weights*. Let's also create a probe for the spikes the model is producing."
      ]
    },
    {
      "cell_type": "code",
      "metadata": {
        "id": "IKceg-3hauyb"
      },
      "source": [
        "with model:\n",
        "    nengo.Connection(input, NPH)\n",
        "    NPH_spikes = nengo.Probe(NPH.neurons)"
      ],
      "execution_count": 22,
      "outputs": []
    },
    {
      "cell_type": "markdown",
      "metadata": {
        "id": "pXqcZzvocZvh"
      },
      "source": [
        "### 5. Run the Network"
      ]
    },
    {
      "cell_type": "code",
      "metadata": {
        "colab": {
          "base_uri": "https://localhost:8080/",
          "height": 75
        },
        "id": "yRP6GoRqdRdf",
        "outputId": "f12fcdbb-a33a-4ad4-fb4a-8fbf3b1773c1"
      },
      "source": [
        "with nengo.Simulator(model) as sim:\n",
        "    sim.run(1)"
      ],
      "execution_count": 23,
      "outputs": [
        {
          "output_type": "display_data",
          "data": {
            "application/vdom.v1+json": {
              "attributes": {},
              "tagName": "div"
            },
            "text/plain": [
              "HtmlProgressBar cannot be displayed. Please use the TerminalProgressBar. It can be enabled with `nengo.rc['progress']['progress_bar'] = 'nengo.utils.progress.TerminalProgressBar'`."
            ],
            "text/html": [
              "\n",
              "                <script>\n",
              "                    if (Jupyter.version.split(\".\")[0] < 5) {\n",
              "                        var pb = document.getElementById(\"c3f5d5a2-a7d0-4cc8-8573-5a839a27bc31\");\n",
              "                        var text = document.createTextNode(\n",
              "                            \"HMTL progress bar requires Jupyter Notebook >= \" +\n",
              "                            \"5.0 or Jupyter Lab. Alternatively, you can use \" +\n",
              "                            \"TerminalProgressBar().\");\n",
              "                        pb.parentNode.insertBefore(text, pb);\n",
              "                    }\n",
              "                </script>\n",
              "                <div id=\"c3f5d5a2-a7d0-4cc8-8573-5a839a27bc31\" style=\"\n",
              "                    width: 100%;\n",
              "                    border: 1px solid #cfcfcf;\n",
              "                    border-radius: 4px;\n",
              "                    text-align: center;\n",
              "                    position: relative;\">\n",
              "                  <div class=\"pb-text\" style=\"\n",
              "                      position: absolute;\n",
              "                      width: 100%;\">\n",
              "                    0%\n",
              "                  </div>\n",
              "                  <div class=\"pb-fill\" style=\"\n",
              "                      background-color: #bdd2e6;\n",
              "                      width: 0%;\">\n",
              "                    <style type=\"text/css\" scoped=\"scoped\">\n",
              "                        @keyframes pb-fill-anim {\n",
              "                            0% { background-position: 0 0; }\n",
              "                            100% { background-position: 100px 0; }\n",
              "                        }\n",
              "                    </style>\n",
              "                    &nbsp;\n",
              "                  </div>\n",
              "                </div>"
            ]
          },
          "metadata": {
            "tags": []
          }
        },
        {
          "output_type": "display_data",
          "data": {
            "application/vdom.v1+json": {
              "attributes": {
                "style": {
                  "boxSizing": "border-box",
                  "width": "100%",
                  "position": "relative",
                  "border": "1px solid #cfcfcf",
                  "textAlign": "center",
                  "borderRadius": "4px"
                },
                "id": "948e4d99-1c83-40cc-bdbf-8611d89fac5f"
              },
              "children": [
                {
                  "attributes": {
                    "style": {
                      "position": "absolute",
                      "width": "100%"
                    },
                    "class": "pb-text"
                  },
                  "children": [
                    "Build finished in 0:00:01."
                  ],
                  "tagName": "div"
                },
                {
                  "attributes": {
                    "style": {
                      "width": "100%",
                      "animation": "none",
                      "backgroundImage": "none",
                      "backgroundColor": "#bdd2e6",
                      "backgroundSize": "100px 100%"
                    },
                    "class": "pb-fill"
                  },
                  "children": [
                    {
                      "attributes": {
                        "type": "text/css",
                        "scoped": "scoped"
                      },
                      "children": [
                        "\n                        @keyframes pb-fill-anim {\n                            0% { background-position: 0 0; }\n                            100% { background-position: 100px 0; }\n                        }}"
                      ],
                      "tagName": "style"
                    },
                    " "
                  ],
                  "tagName": "div"
                }
              ],
              "tagName": "div"
            },
            "text/html": [
              "<script>\n",
              "              (function () {\n",
              "                  var root = document.getElementById('c3f5d5a2-a7d0-4cc8-8573-5a839a27bc31');\n",
              "                  var text = root.getElementsByClassName('pb-text')[0];\n",
              "                  var fill = root.getElementsByClassName('pb-fill')[0];\n",
              "\n",
              "                  text.innerHTML = 'Build finished in 0:00:01.';\n",
              "                  \n",
              "            fill.style.width = '100%';\n",
              "            fill.style.animation = 'pb-fill-anim 2s linear infinite';\n",
              "            fill.style.backgroundSize = '100px 100%';\n",
              "            fill.style.backgroundImage = 'repeating-linear-gradient(' +\n",
              "                '90deg, #bdd2e6, #edf2f8 40%, #bdd2e6 80%, #bdd2e6)';\n",
              "        \n",
              "                  \n",
              "                fill.style.animation = 'none';\n",
              "                fill.style.backgroundImage = 'none';\n",
              "            \n",
              "              })();\n",
              "        </script>"
            ]
          },
          "metadata": {
            "tags": []
          }
        },
        {
          "output_type": "display_data",
          "data": {
            "application/vdom.v1+json": {
              "attributes": {},
              "tagName": "div"
            },
            "text/plain": [
              "HtmlProgressBar cannot be displayed. Please use the TerminalProgressBar. It can be enabled with `nengo.rc['progress']['progress_bar'] = 'nengo.utils.progress.TerminalProgressBar'`."
            ],
            "text/html": [
              "\n",
              "                <script>\n",
              "                    if (Jupyter.version.split(\".\")[0] < 5) {\n",
              "                        var pb = document.getElementById(\"d0d95c6b-d0f9-42ca-8a75-6353055c3c30\");\n",
              "                        var text = document.createTextNode(\n",
              "                            \"HMTL progress bar requires Jupyter Notebook >= \" +\n",
              "                            \"5.0 or Jupyter Lab. Alternatively, you can use \" +\n",
              "                            \"TerminalProgressBar().\");\n",
              "                        pb.parentNode.insertBefore(text, pb);\n",
              "                    }\n",
              "                </script>\n",
              "                <div id=\"d0d95c6b-d0f9-42ca-8a75-6353055c3c30\" style=\"\n",
              "                    width: 100%;\n",
              "                    border: 1px solid #cfcfcf;\n",
              "                    border-radius: 4px;\n",
              "                    text-align: center;\n",
              "                    position: relative;\">\n",
              "                  <div class=\"pb-text\" style=\"\n",
              "                      position: absolute;\n",
              "                      width: 100%;\">\n",
              "                    0%\n",
              "                  </div>\n",
              "                  <div class=\"pb-fill\" style=\"\n",
              "                      background-color: #bdd2e6;\n",
              "                      width: 0%;\">\n",
              "                    <style type=\"text/css\" scoped=\"scoped\">\n",
              "                        @keyframes pb-fill-anim {\n",
              "                            0% { background-position: 0 0; }\n",
              "                            100% { background-position: 100px 0; }\n",
              "                        }\n",
              "                    </style>\n",
              "                    &nbsp;\n",
              "                  </div>\n",
              "                </div>"
            ]
          },
          "metadata": {
            "tags": []
          }
        },
        {
          "output_type": "display_data",
          "data": {
            "application/vdom.v1+json": {
              "attributes": {
                "style": {
                  "boxSizing": "border-box",
                  "width": "100%",
                  "position": "relative",
                  "border": "1px solid #cfcfcf",
                  "textAlign": "center",
                  "borderRadius": "4px"
                },
                "id": "24ddc15c-4e85-4ad0-bc8f-37f4d767cd8b"
              },
              "children": [
                {
                  "attributes": {
                    "style": {
                      "position": "absolute",
                      "width": "100%"
                    },
                    "class": "pb-text"
                  },
                  "children": [
                    "Simulation finished in 0:00:01."
                  ],
                  "tagName": "div"
                },
                {
                  "attributes": {
                    "style": {
                      "width": "100%",
                      "animation": "none",
                      "backgroundImage": "none",
                      "backgroundColor": "#bdd2e6",
                      "transition": "width 0.1s linear"
                    },
                    "class": "pb-fill"
                  },
                  "children": [
                    {
                      "attributes": {
                        "type": "text/css",
                        "scoped": "scoped"
                      },
                      "children": [
                        "\n                        @keyframes pb-fill-anim {\n                            0% { background-position: 0 0; }\n                            100% { background-position: 100px 0; }\n                        }}"
                      ],
                      "tagName": "style"
                    },
                    " "
                  ],
                  "tagName": "div"
                }
              ],
              "tagName": "div"
            },
            "text/html": [
              "<script>\n",
              "              (function () {\n",
              "                  var root = document.getElementById('d0d95c6b-d0f9-42ca-8a75-6353055c3c30');\n",
              "                  var text = root.getElementsByClassName('pb-text')[0];\n",
              "                  var fill = root.getElementsByClassName('pb-fill')[0];\n",
              "\n",
              "                  text.innerHTML = 'Simulation finished in 0:00:01.';\n",
              "                  \n",
              "            if (100.0 > 0.) {\n",
              "                fill.style.transition = 'width 0.1s linear';\n",
              "            } else {\n",
              "                fill.style.transition = 'none';\n",
              "            }\n",
              "\n",
              "            fill.style.width = '100.0%';\n",
              "            fill.style.animation = 'none';\n",
              "            fill.style.backgroundImage = 'none'\n",
              "        \n",
              "                  \n",
              "                fill.style.animation = 'none';\n",
              "                fill.style.backgroundImage = 'none';\n",
              "            \n",
              "              })();\n",
              "        </script>"
            ]
          },
          "metadata": {
            "tags": []
          }
        }
      ]
    },
    {
      "cell_type": "markdown",
      "metadata": {
        "id": "RlrBEXVaZpHb"
      },
      "source": [
        "## 6. How do the activity of the neurons looks like??"
      ]
    },
    {
      "cell_type": "markdown",
      "metadata": {
        "id": "H_Ai_KnUZxud"
      },
      "source": [
        "Now that we have the encoding neurons, the input and the probes, we can run the simulation and check the firing behavior of the neurons."
      ]
    },
    {
      "cell_type": "markdown",
      "metadata": {
        "id": "xK7BemRYfhgA"
      },
      "source": [
        "#### Raster Plot:"
      ]
    },
    {
      "cell_type": "code",
      "metadata": {
        "colab": {
          "base_uri": "https://localhost:8080/",
          "height": 296
        },
        "id": "ZRG_uOr6aVxw",
        "outputId": "1172dfb4-ae19-408d-f71f-70b8b13bcb89"
      },
      "source": [
        "plt.figure(figsize=[15,4])\n",
        "ax = plt.subplot(1, 1, 1)\n",
        "rasterplot(sim.trange(), sim.data[NPH_spikes], ax)\n",
        "ax.set_xlim(0, 1)\n",
        "ax.set_ylabel(\"Neuron\")\n",
        "ax.set_xlabel(\"Time (s)\")"
      ],
      "execution_count": null,
      "outputs": [
        {
          "output_type": "execute_result",
          "data": {
            "text/plain": [
              "Text(0.5, 0, 'Time (s)')"
            ]
          },
          "metadata": {
            "tags": []
          },
          "execution_count": 175
        },
        {
          "output_type": "display_data",
          "data": {
            "image/png": "[encoded data removed]",
            "text/plain": [
              "<Figure size 1080x288 with 1 Axes>"
            ]
          },
          "metadata": {
            "tags": [],
            "needs_background": "light"
          }
        }
      ]
    },
    {
      "cell_type": "markdown",
      "metadata": {
        "id": "U95aObpffjvv"
      },
      "source": [
        "#### Membrane Potential"
      ]
    },
    {
      "cell_type": "code",
      "metadata": {
        "colab": {
          "base_uri": "https://localhost:8080/",
          "height": 323
        },
        "id": "QhtB9wvKfmYs",
        "outputId": "72130d07-5f19-4da4-d6f5-d7b254ef7881"
      },
      "source": [
        "with model:\n",
        "  nengo.Connection(input, NPH)\n",
        "  NPH_spikes = nengo.Probe(NPH.neurons, synapse=0.01)\n",
        "\n",
        "with nengo.Simulator(model) as sim:\n",
        "    sim.run(1)\n",
        "\n",
        "scale = 180\n",
        "plt.figure()\n",
        "for i in range(NPH.n_neurons):\n",
        "    plt.plot(sim.trange(), sim.data[NPH_spikes][:, i] - i * scale)\n",
        "plt.xlim(0, 1)\n",
        "plt.ylim(scale * (-NPH.n_neurons + 1), scale)\n",
        "plt.ylabel(\"Neuron\");\n",
        "plt.yticks(\n",
        "    np.arange(scale / 1.8, (-NPH.n_neurons + 1) * scale, -scale), np.arange(NPH.n_neurons)\n",
        ");"
      ],
      "execution_count": 24,
      "outputs": [
        {
          "output_type": "display_data",
          "data": {
            "application/vdom.v1+json": {
              "attributes": {},
              "tagName": "div"
            },
            "text/plain": [
              "HtmlProgressBar cannot be displayed. Please use the TerminalProgressBar. It can be enabled with `nengo.rc['progress']['progress_bar'] = 'nengo.utils.progress.TerminalProgressBar'`."
            ],
            "text/html": [
              "\n",
              "                <script>\n",
              "                    if (Jupyter.version.split(\".\")[0] < 5) {\n",
              "                        var pb = document.getElementById(\"0901df26-c667-4089-b856-ba57e0b7a0d4\");\n",
              "                        var text = document.createTextNode(\n",
              "                            \"HMTL progress bar requires Jupyter Notebook >= \" +\n",
              "                            \"5.0 or Jupyter Lab. Alternatively, you can use \" +\n",
              "                            \"TerminalProgressBar().\");\n",
              "                        pb.parentNode.insertBefore(text, pb);\n",
              "                    }\n",
              "                </script>\n",
              "                <div id=\"0901df26-c667-4089-b856-ba57e0b7a0d4\" style=\"\n",
              "                    width: 100%;\n",
              "                    border: 1px solid #cfcfcf;\n",
              "                    border-radius: 4px;\n",
              "                    text-align: center;\n",
              "                    position: relative;\">\n",
              "                  <div class=\"pb-text\" style=\"\n",
              "                      position: absolute;\n",
              "                      width: 100%;\">\n",
              "                    0%\n",
              "                  </div>\n",
              "                  <div class=\"pb-fill\" style=\"\n",
              "                      background-color: #bdd2e6;\n",
              "                      width: 0%;\">\n",
              "                    <style type=\"text/css\" scoped=\"scoped\">\n",
              "                        @keyframes pb-fill-anim {\n",
              "                            0% { background-position: 0 0; }\n",
              "                            100% { background-position: 100px 0; }\n",
              "                        }\n",
              "                    </style>\n",
              "                    &nbsp;\n",
              "                  </div>\n",
              "                </div>"
            ]
          },
          "metadata": {
            "tags": []
          }
        },
        {
          "output_type": "display_data",
          "data": {
            "application/vdom.v1+json": {
              "attributes": {
                "style": {
                  "boxSizing": "border-box",
                  "width": "100%",
                  "position": "relative",
                  "border": "1px solid #cfcfcf",
                  "textAlign": "center",
                  "borderRadius": "4px"
                },
                "id": "498d103f-c425-49fc-b096-5c63c122bfdd"
              },
              "children": [
                {
                  "attributes": {
                    "style": {
                      "position": "absolute",
                      "width": "100%"
                    },
                    "class": "pb-text"
                  },
                  "children": [
                    "Build finished in 0:00:01."
                  ],
                  "tagName": "div"
                },
                {
                  "attributes": {
                    "style": {
                      "width": "100%",
                      "animation": "none",
                      "backgroundImage": "none",
                      "backgroundColor": "#bdd2e6",
                      "backgroundSize": "100px 100%"
                    },
                    "class": "pb-fill"
                  },
                  "children": [
                    {
                      "attributes": {
                        "type": "text/css",
                        "scoped": "scoped"
                      },
                      "children": [
                        "\n                        @keyframes pb-fill-anim {\n                            0% { background-position: 0 0; }\n                            100% { background-position: 100px 0; }\n                        }}"
                      ],
                      "tagName": "style"
                    },
                    " "
                  ],
                  "tagName": "div"
                }
              ],
              "tagName": "div"
            },
            "text/html": [
              "<script>\n",
              "              (function () {\n",
              "                  var root = document.getElementById('0901df26-c667-4089-b856-ba57e0b7a0d4');\n",
              "                  var text = root.getElementsByClassName('pb-text')[0];\n",
              "                  var fill = root.getElementsByClassName('pb-fill')[0];\n",
              "\n",
              "                  text.innerHTML = 'Build finished in 0:00:01.';\n",
              "                  \n",
              "            fill.style.width = '100%';\n",
              "            fill.style.animation = 'pb-fill-anim 2s linear infinite';\n",
              "            fill.style.backgroundSize = '100px 100%';\n",
              "            fill.style.backgroundImage = 'repeating-linear-gradient(' +\n",
              "                '90deg, #bdd2e6, #edf2f8 40%, #bdd2e6 80%, #bdd2e6)';\n",
              "        \n",
              "                  \n",
              "                fill.style.animation = 'none';\n",
              "                fill.style.backgroundImage = 'none';\n",
              "            \n",
              "              })();\n",
              "        </script>"
            ]
          },
          "metadata": {
            "tags": []
          }
        },
        {
          "output_type": "display_data",
          "data": {
            "application/vdom.v1+json": {
              "attributes": {},
              "tagName": "div"
            },
            "text/plain": [
              "HtmlProgressBar cannot be displayed. Please use the TerminalProgressBar. It can be enabled with `nengo.rc['progress']['progress_bar'] = 'nengo.utils.progress.TerminalProgressBar'`."
            ],
            "text/html": [
              "\n",
              "                <script>\n",
              "                    if (Jupyter.version.split(\".\")[0] < 5) {\n",
              "                        var pb = document.getElementById(\"e4216b17-4708-4053-ad76-5c1515c9f67f\");\n",
              "                        var text = document.createTextNode(\n",
              "                            \"HMTL progress bar requires Jupyter Notebook >= \" +\n",
              "                            \"5.0 or Jupyter Lab. Alternatively, you can use \" +\n",
              "                            \"TerminalProgressBar().\");\n",
              "                        pb.parentNode.insertBefore(text, pb);\n",
              "                    }\n",
              "                </script>\n",
              "                <div id=\"e4216b17-4708-4053-ad76-5c1515c9f67f\" style=\"\n",
              "                    width: 100%;\n",
              "                    border: 1px solid #cfcfcf;\n",
              "                    border-radius: 4px;\n",
              "                    text-align: center;\n",
              "                    position: relative;\">\n",
              "                  <div class=\"pb-text\" style=\"\n",
              "                      position: absolute;\n",
              "                      width: 100%;\">\n",
              "                    0%\n",
              "                  </div>\n",
              "                  <div class=\"pb-fill\" style=\"\n",
              "                      background-color: #bdd2e6;\n",
              "                      width: 0%;\">\n",
              "                    <style type=\"text/css\" scoped=\"scoped\">\n",
              "                        @keyframes pb-fill-anim {\n",
              "                            0% { background-position: 0 0; }\n",
              "                            100% { background-position: 100px 0; }\n",
              "                        }\n",
              "                    </style>\n",
              "                    &nbsp;\n",
              "                  </div>\n",
              "                </div>"
            ]
          },
          "metadata": {
            "tags": []
          }
        },
        {
          "output_type": "display_data",
          "data": {
            "application/vdom.v1+json": {
              "attributes": {
                "style": {
                  "boxSizing": "border-box",
                  "width": "100%",
                  "position": "relative",
                  "border": "1px solid #cfcfcf",
                  "textAlign": "center",
                  "borderRadius": "4px"
                },
                "id": "27e7afc9-7301-4b3a-8316-594f1af936c2"
              },
              "children": [
                {
                  "attributes": {
                    "style": {
                      "position": "absolute",
                      "width": "100%"
                    },
                    "class": "pb-text"
                  },
                  "children": [
                    "Simulation finished in 0:00:01."
                  ],
                  "tagName": "div"
                },
                {
                  "attributes": {
                    "style": {
                      "width": "100%",
                      "animation": "none",
                      "backgroundImage": "none",
                      "backgroundColor": "#bdd2e6",
                      "transition": "width 0.1s linear"
                    },
                    "class": "pb-fill"
                  },
                  "children": [
                    {
                      "attributes": {
                        "type": "text/css",
                        "scoped": "scoped"
                      },
                      "children": [
                        "\n                        @keyframes pb-fill-anim {\n                            0% { background-position: 0 0; }\n                            100% { background-position: 100px 0; }\n                        }}"
                      ],
                      "tagName": "style"
                    },
                    " "
                  ],
                  "tagName": "div"
                }
              ],
              "tagName": "div"
            },
            "text/html": [
              "<script>\n",
              "              (function () {\n",
              "                  var root = document.getElementById('e4216b17-4708-4053-ad76-5c1515c9f67f');\n",
              "                  var text = root.getElementsByClassName('pb-text')[0];\n",
              "                  var fill = root.getElementsByClassName('pb-fill')[0];\n",
              "\n",
              "                  text.innerHTML = 'Simulation finished in 0:00:01.';\n",
              "                  \n",
              "            if (100.0 > 0.) {\n",
              "                fill.style.transition = 'width 0.1s linear';\n",
              "            } else {\n",
              "                fill.style.transition = 'none';\n",
              "            }\n",
              "\n",
              "            fill.style.width = '100.0%';\n",
              "            fill.style.animation = 'none';\n",
              "            fill.style.backgroundImage = 'none'\n",
              "        \n",
              "                  \n",
              "                fill.style.animation = 'none';\n",
              "                fill.style.backgroundImage = 'none';\n",
              "            \n",
              "              })();\n",
              "        </script>"
            ]
          },
          "metadata": {
            "tags": []
          }
        },
        {
          "output_type": "display_data",
          "data": {
            "image/png": "[encoded data removed]",
            "text/plain": [
              "<Figure size 432x288 with 1 Axes>"
            ]
          },
          "metadata": {
            "tags": [],
            "needs_background": "light"
          }
        }
      ]
    },
    {
      "cell_type": "markdown",
      "metadata": {
        "id": "HFu_x_KNd6qt"
      },
      "source": [
        "## 7. Check your decoding skills!\n"
      ]
    },
    {
      "cell_type": "markdown",
      "metadata": {
        "id": "MxrXbJWWeDYj"
      },
      "source": [
        "Can we decode those spikes and obtain our signal back? A decoder that produces the identity function can be obtained via a simple Probe. To find the decoding weights, the probe of a population uses the encoded value."
      ]
    },
    {
      "cell_type": "code",
      "metadata": {
        "colab": {
          "base_uri": "https://localhost:8080/",
          "height": 340
        },
        "id": "h8M9e3lhRniD",
        "outputId": "d85d6906-82bc-49c7-fa5c-d8d8dec38781"
      },
      "source": [
        "with model:\n",
        "    NPH_probe = nengo.Probe(NPH, synapse=0.01)  # 10ms PSC filter (AMPA like)\n",
        "\n",
        "\n",
        "with nengo.Simulator(model) as sim:\n",
        "    sim.run(simtime)\n",
        "\n",
        "plt.figure()\n",
        "plt.plot(sim.trange(), sim.data[NPH_probe], label=\"Decoded estimate\")\n",
        "plt.plot(sim.trange(), sim.data[input_probe], label=\"Input signal\")\n",
        "plt.legend(loc=\"best\")\n",
        "plt.xlim(0, simtime)"
      ],
      "execution_count": null,
      "outputs": [
        {
          "output_type": "display_data",
          "data": {
            "application/vdom.v1+json": {
              "attributes": {},
              "tagName": "div"
            },
            "text/plain": [
              "HtmlProgressBar cannot be displayed. Please use the TerminalProgressBar. It can be enabled with `nengo.rc['progress']['progress_bar'] = 'nengo.utils.progress.TerminalProgressBar'`."
            ],
            "text/html": [
              "\n",
              "                <script>\n",
              "                    if (Jupyter.version.split(\".\")[0] < 5) {\n",
              "                        var pb = document.getElementById(\"d18d171a-4049-4891-b9d1-ad3a7c3ab881\");\n",
              "                        var text = document.createTextNode(\n",
              "                            \"HMTL progress bar requires Jupyter Notebook >= \" +\n",
              "                            \"5.0 or Jupyter Lab. Alternatively, you can use \" +\n",
              "                            \"TerminalProgressBar().\");\n",
              "                        pb.parentNode.insertBefore(text, pb);\n",
              "                    }\n",
              "                </script>\n",
              "                <div id=\"d18d171a-4049-4891-b9d1-ad3a7c3ab881\" style=\"\n",
              "                    width: 100%;\n",
              "                    border: 1px solid #cfcfcf;\n",
              "                    border-radius: 4px;\n",
              "                    text-align: center;\n",
              "                    position: relative;\">\n",
              "                  <div class=\"pb-text\" style=\"\n",
              "                      position: absolute;\n",
              "                      width: 100%;\">\n",
              "                    0%\n",
              "                  </div>\n",
              "                  <div class=\"pb-fill\" style=\"\n",
              "                      background-color: #bdd2e6;\n",
              "                      width: 0%;\">\n",
              "                    <style type=\"text/css\" scoped=\"scoped\">\n",
              "                        @keyframes pb-fill-anim {\n",
              "                            0% { background-position: 0 0; }\n",
              "                            100% { background-position: 100px 0; }\n",
              "                        }\n",
              "                    </style>\n",
              "                    &nbsp;\n",
              "                  </div>\n",
              "                </div>"
            ]
          },
          "metadata": {
            "tags": []
          }
        },
        {
          "output_type": "display_data",
          "data": {
            "application/vdom.v1+json": {
              "attributes": {
                "style": {
                  "boxSizing": "border-box",
                  "width": "100%",
                  "position": "relative",
                  "border": "1px solid #cfcfcf",
                  "textAlign": "center",
                  "borderRadius": "4px"
                },
                "id": "7c5822ac-2474-4863-929c-79564013c4e0"
              },
              "children": [
                {
                  "attributes": {
                    "style": {
                      "position": "absolute",
                      "width": "100%"
                    },
                    "class": "pb-text"
                  },
                  "children": [
                    "Build finished in 0:00:01."
                  ],
                  "tagName": "div"
                },
                {
                  "attributes": {
                    "style": {
                      "width": "100%",
                      "animation": "none",
                      "backgroundImage": "none",
                      "backgroundColor": "#bdd2e6",
                      "backgroundSize": "100px 100%"
                    },
                    "class": "pb-fill"
                  },
                  "children": [
                    {
                      "attributes": {
                        "type": "text/css",
                        "scoped": "scoped"
                      },
                      "children": [
                        "\n                        @keyframes pb-fill-anim {\n                            0% { background-position: 0 0; }\n                            100% { background-position: 100px 0; }\n                        }}"
                      ],
                      "tagName": "style"
                    },
                    " "
                  ],
                  "tagName": "div"
                }
              ],
              "tagName": "div"
            },
            "text/html": [
              "<script>\n",
              "              (function () {\n",
              "                  var root = document.getElementById('d18d171a-4049-4891-b9d1-ad3a7c3ab881');\n",
              "                  var text = root.getElementsByClassName('pb-text')[0];\n",
              "                  var fill = root.getElementsByClassName('pb-fill')[0];\n",
              "\n",
              "                  text.innerHTML = 'Build finished in 0:00:01.';\n",
              "                  \n",
              "            fill.style.width = '100%';\n",
              "            fill.style.animation = 'pb-fill-anim 2s linear infinite';\n",
              "            fill.style.backgroundSize = '100px 100%';\n",
              "            fill.style.backgroundImage = 'repeating-linear-gradient(' +\n",
              "                '90deg, #bdd2e6, #edf2f8 40%, #bdd2e6 80%, #bdd2e6)';\n",
              "        \n",
              "                  \n",
              "                fill.style.animation = 'none';\n",
              "                fill.style.backgroundImage = 'none';\n",
              "            \n",
              "              })();\n",
              "        </script>"
            ]
          },
          "metadata": {
            "tags": []
          }
        },
        {
          "output_type": "display_data",
          "data": {
            "application/vdom.v1+json": {
              "attributes": {},
              "tagName": "div"
            },
            "text/plain": [
              "HtmlProgressBar cannot be displayed. Please use the TerminalProgressBar. It can be enabled with `nengo.rc['progress']['progress_bar'] = 'nengo.utils.progress.TerminalProgressBar'`."
            ],
            "text/html": [
              "\n",
              "                <script>\n",
              "                    if (Jupyter.version.split(\".\")[0] < 5) {\n",
              "                        var pb = document.getElementById(\"7e822ea0-1391-402d-a845-828e287aa9a4\");\n",
              "                        var text = document.createTextNode(\n",
              "                            \"HMTL progress bar requires Jupyter Notebook >= \" +\n",
              "                            \"5.0 or Jupyter Lab. Alternatively, you can use \" +\n",
              "                            \"TerminalProgressBar().\");\n",
              "                        pb.parentNode.insertBefore(text, pb);\n",
              "                    }\n",
              "                </script>\n",
              "                <div id=\"7e822ea0-1391-402d-a845-828e287aa9a4\" style=\"\n",
              "                    width: 100%;\n",
              "                    border: 1px solid #cfcfcf;\n",
              "                    border-radius: 4px;\n",
              "                    text-align: center;\n",
              "                    position: relative;\">\n",
              "                  <div class=\"pb-text\" style=\"\n",
              "                      position: absolute;\n",
              "                      width: 100%;\">\n",
              "                    0%\n",
              "                  </div>\n",
              "                  <div class=\"pb-fill\" style=\"\n",
              "                      background-color: #bdd2e6;\n",
              "                      width: 0%;\">\n",
              "                    <style type=\"text/css\" scoped=\"scoped\">\n",
              "                        @keyframes pb-fill-anim {\n",
              "                            0% { background-position: 0 0; }\n",
              "                            100% { background-position: 100px 0; }\n",
              "                        }\n",
              "                    </style>\n",
              "                    &nbsp;\n",
              "                  </div>\n",
              "                </div>"
            ]
          },
          "metadata": {
            "tags": []
          }
        },
        {
          "output_type": "display_data",
          "data": {
            "application/vdom.v1+json": {
              "attributes": {
                "style": {
                  "boxSizing": "border-box",
                  "width": "100%",
                  "position": "relative",
                  "border": "1px solid #cfcfcf",
                  "textAlign": "center",
                  "borderRadius": "4px"
                },
                "id": "2d013809-12c0-488d-8ebf-b3ef9d7f2c8e"
              },
              "children": [
                {
                  "attributes": {
                    "style": {
                      "position": "absolute",
                      "width": "100%"
                    },
                    "class": "pb-text"
                  },
                  "children": [
                    "Simulation finished in 0:00:01."
                  ],
                  "tagName": "div"
                },
                {
                  "attributes": {
                    "style": {
                      "width": "100%",
                      "animation": "none",
                      "backgroundImage": "none",
                      "backgroundColor": "#bdd2e6",
                      "transition": "width 0.1s linear"
                    },
                    "class": "pb-fill"
                  },
                  "children": [
                    {
                      "attributes": {
                        "type": "text/css",
                        "scoped": "scoped"
                      },
                      "children": [
                        "\n                        @keyframes pb-fill-anim {\n                            0% { background-position: 0 0; }\n                            100% { background-position: 100px 0; }\n                        }}"
                      ],
                      "tagName": "style"
                    },
                    " "
                  ],
                  "tagName": "div"
                }
              ],
              "tagName": "div"
            },
            "text/html": [
              "<script>\n",
              "              (function () {\n",
              "                  var root = document.getElementById('7e822ea0-1391-402d-a845-828e287aa9a4');\n",
              "                  var text = root.getElementsByClassName('pb-text')[0];\n",
              "                  var fill = root.getElementsByClassName('pb-fill')[0];\n",
              "\n",
              "                  text.innerHTML = 'Simulation finished in 0:00:01.';\n",
              "                  \n",
              "            if (100.0 > 0.) {\n",
              "                fill.style.transition = 'width 0.1s linear';\n",
              "            } else {\n",
              "                fill.style.transition = 'none';\n",
              "            }\n",
              "\n",
              "            fill.style.width = '100.0%';\n",
              "            fill.style.animation = 'none';\n",
              "            fill.style.backgroundImage = 'none'\n",
              "        \n",
              "                  \n",
              "                fill.style.animation = 'none';\n",
              "                fill.style.backgroundImage = 'none';\n",
              "            \n",
              "              })();\n",
              "        </script>"
            ]
          },
          "metadata": {
            "tags": []
          }
        },
        {
          "output_type": "execute_result",
          "data": {
            "text/plain": [
              "(0.0, 5.0)"
            ]
          },
          "metadata": {
            "tags": []
          },
          "execution_count": 177
        },
        {
          "output_type": "display_data",
          "data": {
            "image/png": "[encoded data removed]",
            "text/plain": [
              "<Figure size 432x288 with 1 Axes>"
            ]
          },
          "metadata": {
            "tags": [],
            "needs_background": "light"
          }
        }
      ]
    },
    {
      "cell_type": "markdown",
      "metadata": {
        "id": "UH3bpl0gm2zk"
      },
      "source": [
        "# Exercises"
      ]
    },
    {
      "cell_type": "markdown",
      "metadata": {
        "id": "r5okN1gcm4wE"
      },
      "source": [
        "Exercise 1. Verify that the parameters of our network are specified according to the experimental data. Particularly, make sure that the values for individual neuronal tuning curves in the code above are correctly specified in the introduction.\n",
        "\n",
        "Exercise 2. Change the frequency of the sinusoidal input function and inspect the decoding quality. Are all frequencies decoded equally well?\n",
        "\n",
        "Exercise 3. Our network is rather small. Change the number of neurons and observe the impact on decoding quality.\n",
        "\n",
        "Exercise 4. Create an 'efference copy' from the encoding population. That is: produce another population downstream from the encoding population that conveys the same 'quantity' (same number of dimensions). Now decode the original value from the second population. What do you observe?\n"
      ]
    },
    {
      "cell_type": "markdown",
      "metadata": {
        "id": "y6ZjeZZb1ACV"
      },
      "source": [
        "# Bonus: Influence of Membrane Time Constant on Signal Reconstruction\n",
        "\n",
        "Code gracefully scraped from: https://github.com/ctn-waterloo/modelling_ideas/issues/91"
      ]
    },
    {
      "cell_type": "code",
      "metadata": {
        "id": "5J81DQPa1JaD"
      },
      "source": [
        "def go(freq, tau_rc, n_neurons=10, tau_probe=0.005, t=1.0, dt=0.001, seed=0):\n",
        "    with nengo.Network() as model:\n",
        "        u = nengo.Node(output=lambda t: np.sin(2*np.pi*freq*t))\n",
        "        x = nengo.Ensemble(n_neurons, 1, seed=seed,\n",
        "                           neuron_type=nengo.LIF(tau_rc=tau_rc))\n",
        "        nengo.Connection(u, x, synapse=None)\n",
        "        \n",
        "        p_u = nengo.Probe(u, synapse=tau_probe)\n",
        "        p_x = nengo.Probe(x, synapse=tau_probe)\n",
        "        \n",
        "    with nengo.Simulator(model, dt=dt, progress_bar=False) as sim:\n",
        "        sim.run(t, progress_bar=False)\n",
        "        \n",
        "    return nengo.utils.numpy.rmse(sim.data[p_u], sim.data[p_x])\n",
        "\n",
        "data = []\n",
        "for seed in range(5):\n",
        "    for freq in np.linspace(0, 50, 20):\n",
        "        for tau_rc in [0.001, 0.005, 0.01, 0.02, 0.1]:\n",
        "            print(freq, tau_rc)\n",
        "            data.append((freq, tau_rc, seed, go(freq, tau_rc, seed=seed)))\n",
        "df = pd.DataFrame(data, columns=(\"Frequency\", \"tau_rc\", \"Seed\", \"RMSE\"))"
      ],
      "execution_count": null,
      "outputs": []
    },
    {
      "cell_type": "code",
      "metadata": {
        "colab": {
          "base_uri": "https://localhost:8080/",
          "height": 1000
        },
        "id": "ktc1f6Xm1bQM",
        "outputId": "c80fa1bb-1400-4bd0-c5bf-38a43c6c4a55"
      },
      "source": [
        "plt.figure(figsize=[20,20])\n",
        "for tau_rc in df.tau_rc.unique():\n",
        "    sns.regplot(data=df[df['tau_rc'] == tau_rc], x_jitter=1.5,\n",
        "                x=\"Frequency\", y=\"RMSE\", label=str(tau_rc))\n",
        "plt.legend()\n",
        "plt.show()"
      ],
      "execution_count": null,
      "outputs": [
        {
          "output_type": "display_data",
          "data": {
            "image/png": "[encoded data removed]",
            "text/plain": [
              "<Figure size 1440x1440 with 1 Axes>"
            ]
          },
          "metadata": {
            "tags": [],
            "needs_background": "light"
          }
        }
      ]
    }
  ]
}