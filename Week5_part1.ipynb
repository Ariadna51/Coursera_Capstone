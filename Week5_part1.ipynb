{
 "cells": [
  {
   "cell_type": "markdown",
   "metadata": {},
   "source": [
    "## Capstone Project: Finding the best place for new medical hospital in Netherlands"
   ]
  },
  {
   "cell_type": "markdown",
   "metadata": {},
   "source": [
    "### Introduction"
   ]
  },
  {
   "cell_type": "markdown",
   "metadata": {},
   "source": [
    " The main purpose of this Project is to find the best place to build a new medical hospital in Netherlands in order to satisfy the needs of population in medical assistance. \n",
    " Due to healthcare system in Netherlands there might be a long waiting list for some healthcare specialists especially during Corona time. Postponing of diagnostical procedures and start of treatment might worsen the outcome of many diseases or lead to refractial type of progression. That is why it makes sense to investigate the cover of existing medical centers in order to decide where new center is needed. Medical centers could be evaluated with help of their rating and the amount of people that could be treated at the center simultaneously. \n",
    " \n",
    "I hope that this project may improve current situation and develop new facilities to solve health problems in shorter time.\n"
   ]
  },
  {
   "cell_type": "markdown",
   "metadata": {},
   "source": [
    "### Data required\n",
    "\n",
    "1. List of hospitals in Netherlands https://en.wikipedia.org/wiki/List_of_hospitals_in_the_Netherlands \\n\n",
    "2. Latitude and longitude of coordinates of the medical centers and neighborhoods around \n",
    "3. Venue data related to medical centers (Foursquare IPA )\n"
   ]
  },
  {
   "cell_type": "code",
   "execution_count": null,
   "metadata": {},
   "outputs": [],
   "source": []
  }
 ],
 "metadata": {
  "kernelspec": {
   "display_name": "Python",
   "language": "python",
   "name": "conda-env-python-py"
  },
  "language_info": {
   "codemirror_mode": {
    "name": "ipython",
    "version": 3
   },
   "file_extension": ".py",
   "mimetype": "text/x-python",
   "name": "python",
   "nbconvert_exporter": "python",
   "pygments_lexer": "ipython3",
   "version": "3.6.10"
  }
 },
 "nbformat": 4,
 "nbformat_minor": 4
}
